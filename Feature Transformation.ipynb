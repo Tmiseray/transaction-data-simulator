{
 "cells": [
  {
   "cell_type": "code",
   "execution_count": null,
   "metadata": {},
   "outputs": [],
   "source": [
    "# Initialization: Load shared functions and simulated data \n",
    "\n",
    "# Load shared functions\n",
    "!curl -O https://raw.githubusercontent.com/Fraud-Detection-Handbook/fraud-detection-handbook/main/Chapter_References/shared_functions.py\n",
    "%run shared_functions.py\n",
    "\n",
    "# Get simulated data from Github repository\n",
    "if not os.path.exists(\"simulated-data-raw\"):\n",
    "    !git clone https://github.com/Fraud-Detection-Handbook/simulated-data-raw\n",
    "        "
   ]
  },
  {
   "cell_type": "code",
   "execution_count": null,
   "metadata": {},
   "outputs": [],
   "source": [
    "dir_input='./simulated-data-raw/data/' \n",
    "\n",
    "begin_date = \"2023-12-01\"\n",
    "end_date = \"2024-02-28\"\n",
    "\n",
    "print(\"Load  files\")\n",
    "%time transactions_df = read_from_files(dir_input, being_date, end_date)\n",
    "print(\"{0} transactions loaded, containing {1} fraudulent transactions\"\\\n",
    "      .format(len(transactions_df),transactions_df.tx_fraud.sum()))"
   ]
  },
  {
   "cell_type": "code",
   "execution_count": null,
   "metadata": {},
   "outputs": [],
   "source": [
    "transactions_df.head()"
   ]
  },
  {
   "cell_type": "code",
   "execution_count": null,
   "metadata": {},
   "outputs": [],
   "source": [
    "def is_weekend(tx_datetime):\n",
    "\n",
    "    # Transform date into weekday (0 is Monday, 6 is Sunday)\n",
    "    weekend = tx_datetime.weekday()\n",
    "    # Binary value: 0 weekday, 1 if weekend\n",
    "    is_weekend = weekday>=5\n",
    "\n",
    "    return int(is_weekend)"
   ]
  },
  {
   "cell_type": "code",
   "execution_count": null,
   "metadata": {},
   "outputs": [],
   "source": [
    "%time transactions_df['tx_during_weekend'] = transaction_df.tx_datetime\\\n",
    "                                            .apply(is_weekend)"
   ]
  },
  {
   "cell_type": "code",
   "execution_count": null,
   "metadata": {},
   "outputs": [],
   "source": [
    "def is_night(tx_datetime):\n",
    "\n",
    "    # Get the hour of the Transaction\n",
    "    tx_hour = tx_datetime.hour\n",
    "    # Binary Value: 1 if hour is less than 6, an 0 otherwise\n",
    "    is_night = tx_hour<=6\n",
    "\n",
    "    return int(is_night)"
   ]
  },
  {
   "cell_type": "code",
   "execution_count": null,
   "metadata": {},
   "outputs": [],
   "source": [
    "%time transactions_df['tx_during_night'] = transactions_df.tx_datetime\\\n",
    "                                            .apply(is_night)"
   ]
  },
  {
   "cell_type": "code",
   "execution_count": null,
   "metadata": {},
   "outputs": [],
   "source": [
    "transactions_df[transactions_df.tx_time_days>=30]"
   ]
  },
  {
   "cell_type": "code",
   "execution_count": null,
   "metadata": {},
   "outputs": [],
   "source": [
    "def get_customer_spending_behavior_features(customer_transactions, windows_size_in_days=[1,7,30]):\n",
    "\n",
    "    # Order Transactions Chronologically\n",
    "    customer_transactions = customer_transactions.sort_values('tx_datetime')\n",
    "    "
   ]
  }
 ],
 "metadata": {
  "kernelspec": {
   "display_name": "base",
   "language": "python",
   "name": "python3"
  },
  "language_info": {
   "name": "python",
   "version": "3.11.5"
  }
 },
 "nbformat": 4,
 "nbformat_minor": 2
}
