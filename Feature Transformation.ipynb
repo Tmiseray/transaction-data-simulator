{
 "cells": [
  {
   "cell_type": "code",
   "execution_count": null,
   "metadata": {},
   "outputs": [],
   "source": [
    "# Initialization: Load shared functions and simulated data \n",
    "\n",
    "# Load shared functions\n",
    "!curl -O https://raw.githubusercontent.com/Fraud-Detection-Handbook/fraud-detection-handbook/main/Chapter_References/shared_functions.py\n",
    "%run shared_functions.py\n",
    "\n",
    "# Get simulated data from Github repository\n",
    "if not os.path.exists(\"simulated-data-raw\"):\n",
    "    !git clone https://github.com/Fraud-Detection-Handbook/simulated-data-raw\n",
    "        "
   ]
  },
  {
   "cell_type": "code",
   "execution_count": null,
   "metadata": {},
   "outputs": [],
   "source": [
    "dir_input='./simulated-data-raw/data/' \n",
    "\n",
    "begin_date = \"2023-12-01\"\n",
    "end_date = \"2024-02-28\"\n",
    "\n",
    "print(\"Load  files\")\n",
    "%time transactions_df = read_from_files(dir_input, being_date, end_date)\n",
    "print(\"{0} transactions loaded, containing {1} fraudulent transactions\"\\\n",
    "      .format(len(transactions_df),transactions_df.tx_fraud.sum()))"
   ]
  },
  {
   "cell_type": "code",
   "execution_count": null,
   "metadata": {},
   "outputs": [],
   "source": [
    "transactions_df.head()"
   ]
  },
  {
   "cell_type": "code",
   "execution_count": null,
   "metadata": {},
   "outputs": [],
   "source": [
    "def is_weekend(tx_datetime):\n",
    "\n",
    "    # Transform date into weekday (0 is Monday, 6 is Sunday)\n",
    "    weekend = tx_datetime.weekday()\n",
    "    # Binary value: 0 weekday, 1 if weekend\n",
    "    is_weekend = weekday>=5\n",
    "\n",
    "    return int(is_weekend)"
   ]
  },
  {
   "cell_type": "code",
   "execution_count": null,
   "metadata": {},
   "outputs": [],
   "source": [
    "%time transactions_df['tx_during_weekend'] = transaction_df.tx_datetime\\\n",
    "                                            .apply(is_weekend)"
   ]
  },
  {
   "cell_type": "code",
   "execution_count": null,
   "metadata": {},
   "outputs": [],
   "source": [
    "def is_night(tx_datetime):\n",
    "\n",
    "    # Get the hour of the Transaction\n",
    "    tx_hour = tx_datetime.hour\n",
    "    # Binary Value: 1 if hour is less than 6, an 0 otherwise\n",
    "    is_night = tx_hour<=6\n",
    "\n",
    "    return int(is_night)"
   ]
  },
  {
   "cell_type": "code",
   "execution_count": null,
   "metadata": {},
   "outputs": [],
   "source": [
    "%time transactions_df['tx_during_night'] = transactions_df.tx_datetime\\\n",
    "                                            .apply(is_night)"
   ]
  },
  {
   "cell_type": "code",
   "execution_count": null,
   "metadata": {},
   "outputs": [],
   "source": [
    "transactions_df[transactions_df.tx_time_days>=30]"
   ]
  },
  {
   "cell_type": "code",
   "execution_count": null,
   "metadata": {},
   "outputs": [],
   "source": [
    "def get_customer_spending_behavior_features(customer_transactions, windows_size_in_days=[1,7,30]):\n",
    "\n",
    "    # Order Transactions Chronologically\n",
    "    customer_transactions = customer_transactions.sort_values('tx_datetime')\n",
    "\n",
    "    # The transaction date and time is set as the index, which will allow the use of the rolling function\n",
    "    customer_transactions.index = customer_transactions.tx_datetime\n",
    "\n",
    "    # For each window size\n",
    "    for window_size in windows_size_in_days:\n",
    "\n",
    "        # Compute the sum of the transaction amounts and the number of transactions for the given window size\n",
    "        sum_amount_tx_window = customer_transactions['tx_amount'].rolling(str(window_size)+'d').sum()\n",
    "        nb_tx_window = customer_transactions['tx_amount'].rolling(str(window_size)+'d').count()\n",
    "\n",
    "        # Compute the average transaction amount for the given window size\n",
    "        # nb_tx_window is always >0 since current transaction is always included\n",
    "        avg_amount_tx_window = sum_amount_tx_window/nb_tx_window\n",
    "\n",
    "        # Save feature values\n",
    "        customer_transactions['customer_id_nb_tx_' + str(window_size) + 'day_window'] = list(nb_tx_window)\n",
    "        customer_transactions['customer_id_avg_amount_' + str(window_size) + 'day_window'] = list(avg_amount_tx_window)\n",
    "\n",
    "    # Reindex according to transaction IDs\n",
    "    customer_transactions.index = customer_transactions.transaction_id\n",
    "\n",
    "    # And return the dataframe with the new features\n",
    "    return customer_transactions \n",
    "    "
   ]
  },
  {
   "cell_type": "code",
   "execution_count": null,
   "metadata": {},
   "outputs": [],
   "source": [
    "spending_behavior_customer_0 = get_customer_spending_behavior_features(transactions_df[transactions_df.CUSTOMER_ID == 0])\n",
    "spending_behavior_customer_0"
   ]
  },
  {
   "cell_type": "code",
   "execution_count": null,
   "metadata": {},
   "outputs": [],
   "source": [
    "%time transactions_df = transactions_df.groupby('customer_id').apply(lambda x: get_customer_spending_behavior_features(x, windows_size_in_days=[1,7,30]))\n",
    "transactions_df = transactions_df.sort_values('tx_datetime').reset_index(drop = True)"
   ]
  },
  {
   "cell_type": "code",
   "execution_count": null,
   "metadata": {},
   "outputs": [],
   "source": [
    "transactions_df"
   ]
  },
  {
   "cell_type": "code",
   "execution_count": null,
   "metadata": {},
   "outputs": [],
   "source": [
    "nb_fraud_window = nb_fraud_delay_window - nb_fraud_delay\n",
    "nb_tx_window = nb_tx_delay_window - nb_tx_delay"
   ]
  },
  {
   "cell_type": "code",
   "execution_count": null,
   "metadata": {},
   "outputs": [],
   "source": [
    "risk_window = nb_fraud_window/nb_tx_window"
   ]
  },
  {
   "cell_type": "code",
   "execution_count": null,
   "metadata": {},
   "outputs": [],
   "source": [
    "def get_count_risk_rolling_window(terminal_transactions, delay_period=7, windows_size_in_days=[1,7,30], feature=\"terminal_id\"):\n",
    "    \n",
    "    terminal_transactions = terminal_transactions.sort_values('tx_datetime')\n",
    "    \n",
    "    terminal_transactions.index = terminal_transactions.tx_datetime\n",
    "    \n",
    "    nb_fraud_delay = terminal_transactions['TX_FRAUD'].rolling(str(delay_period)+'d').sum()\n",
    "    nb_tx_delay = terminal_transactions['TX_FRAUD'].rolling(str(delay_period)+'d').count()\n",
    "    \n",
    "    for window_size in windows_size_in_days:\n",
    "    \n",
    "        nb_fraud_delay_window = terminal_transactions['TX_FRAUD'].rolling(str(delay_period+window_size)+'d').sum()\n",
    "        nb_tx_delay_window=terminal_transactions['TX_FRAUD'].rolling(str(delay_period+window_size)+'d').count()\n",
    "    \n",
    "        nb_fraud_window = nb_fraud_delay_window-nb_fraud_delay\n",
    "        nb_tx_window = nb_tx_delay_window-nb_tx_delay\n",
    "    \n",
    "        risk_window=nb_fraud_window/nb_tx_window\n",
    "        \n",
    "        terminal_transactions[feature+'_nb_tx_'+str(window_size)+'day_window'] = list(nb_tx_window)\n",
    "        terminal_transactions[feature+'_risk_'+str(window_size)+'day_window'] = list(risk_window)\n",
    "        \n",
    "    terminal_transactions.index = terminal_transactions.transaction_id\n",
    "    \n",
    "    # Replace NA values with 0 (all undefined risk scores where NB_TX_WINDOW is 0) \n",
    "    terminal_transactions.fillna(0,inplace = True)\n",
    "    \n",
    "    return terminal_transactions"
   ]
  },
  {
   "cell_type": "code",
   "execution_count": null,
   "metadata": {},
   "outputs": [],
   "source": [
    "transactions_df[transactions_df.tx_fraud == 1]"
   ]
  },
  {
   "cell_type": "code",
   "execution_count": null,
   "metadata": {},
   "outputs": [],
   "source": [
    "# Get the first terminal ID that contains frauds\n",
    "transactions_df[transactions_df.tx_fraud == 0].terminal_id[0]"
   ]
  },
  {
   "cell_type": "code",
   "execution_count": null,
   "metadata": {},
   "outputs": [],
   "source": [
    "get_count_risk_rolling_window(transactions_df[transactions_df.terminal_id == 3059], delay_period=7, windows_size_in_days=[1,7,30])"
   ]
  },
  {
   "cell_type": "code",
   "execution_count": null,
   "metadata": {},
   "outputs": [],
   "source": [
    "%time transactions_df=transactions_df.groupby('terminal_id').apply(lambda x: get_count_risk_rolling_window(x, delay_period=7, windows_size_in_days=[1,7,30], feature='terminal_id'))\n",
    "transactions_df=transactions_df.sort_values('tx_datetime').reset_index(drop=True)"
   ]
  },
  {
   "cell_type": "code",
   "execution_count": null,
   "metadata": {},
   "outputs": [],
   "source": [
    "transactions_df"
   ]
  },
  {
   "cell_type": "code",
   "execution_count": null,
   "metadata": {},
   "outputs": [],
   "source": [
    "dir_output = \"./simulated-data-transformed/\"\n",
    "\n",
    "if not os.path.exists(dir_output):\n",
    "    os.makedirs(dir_output)\n",
    "\n",
    "start_date = datetime.datetime.strptime(\"2018-04-01\", \"%Y-%M-%D\")\n",
    "\n",
    "for day in range(transactions_df.tx_time_days.max()+1):\n",
    "    \n",
    "    transactions_day = transactions_df[transactions_df.tx_time_days==day].sort_values('tx_time_secondsS')\n",
    "    \n",
    "    date = start_date + datetime.timedelta(days=day)\n",
    "    filename_output = date.strftime(\"%Y-%M-%D\")+'.pkl'\n",
    "    \n",
    "    # Protocol=4 required for Google Colab\n",
    "    transactions_day.to_pickle(dir_output+filename_output, protocol=4)"
   ]
  }
 ],
 "metadata": {
  "kernelspec": {
   "display_name": "base",
   "language": "python",
   "name": "python3"
  },
  "language_info": {
   "name": "python",
   "version": "3.11.5"
  }
 },
 "nbformat": 4,
 "nbformat_minor": 2
}
